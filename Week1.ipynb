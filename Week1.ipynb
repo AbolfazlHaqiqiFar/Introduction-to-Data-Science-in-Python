{
 "cells": [
  {
   "cell_type": "markdown",
   "metadata": {},
   "source": [
    "# Python Types and Sequences"
   ]
  },
  {
   "cell_type": "code",
   "execution_count": null,
   "metadata": {},
   "outputs": [],
   "source": [
    "def add_number(x, y):\n",
    "    return x+y\n"
   ]
  },
  {
   "cell_type": "code",
   "execution_count": null,
   "metadata": {},
   "outputs": [],
   "source": [
    "add_number(2, 5)"
   ]
  },
  {
   "cell_type": "code",
   "execution_count": null,
   "metadata": {},
   "outputs": [],
   "source": [
    "def do_math(x, y, kind= None):\n",
    "    if (kind=='add'):\n",
    "        return x+y\n",
    "    else:\n",
    "        return x-y"
   ]
  },
  {
   "cell_type": "code",
   "execution_count": null,
   "metadata": {},
   "outputs": [],
   "source": [
    "do_math(5, 2)"
   ]
  },
  {
   "cell_type": "markdown",
   "metadata": {},
   "source": [
    "# Python Demonstration: Reading and Writing CSV files\n",
    "read in our mpg.csv using csv.DictReader and convert it to a list of dictionaries."
   ]
  },
  {
   "cell_type": "code",
   "execution_count": null,
   "metadata": {},
   "outputs": [],
   "source": [
    "import csv\n",
    "\n",
    "%precision 2\n",
    "\n",
    "with open('mpg.csv') as csvfile:\n",
    "    mpg = list(csv.DictReader(csvfile))\n",
    "\n",
    "#look at the first three elements of our list.\n",
    "mpg[:3]"
   ]
  },
  {
   "cell_type": "code",
   "execution_count": null,
   "metadata": {},
   "outputs": [],
   "source": [
    "len(mpg)"
   ]
  },
  {
   "cell_type": "markdown",
   "metadata": {},
   "source": [
    "The length of our list is 234, meaning we have a dictionary for each of the 234 cars in the CSV file."
   ]
  },
  {
   "cell_type": "markdown",
   "metadata": {},
   "source": [
    "We can look at what the column names of the CSV are by using the key method."
   ]
  },
  {
   "cell_type": "code",
   "execution_count": null,
   "metadata": {},
   "outputs": [],
   "source": [
    "mpg[0].keys()"
   ]
  },
  {
   "cell_type": "markdown",
   "metadata": {},
   "source": [
    "Suppose we want to find the average city MPG across all cars in our CSV file. We sum the city MPG entry across all the dictionaries in our list and divide by the length of the list."
   ]
  },
  {
   "cell_type": "code",
   "execution_count": null,
   "metadata": {},
   "outputs": [],
   "source": [
    "\"\"\"\n",
    "Because the type for all the values in our dictionary are strings,\n",
    " we need to convert to float to perform mathematical operations.\n",
    " \"\"\"\n",
    "sum(float(d['cty']) for d in mpg) / len(mpg)"
   ]
  },
  {
   "cell_type": "markdown",
   "metadata": {},
   "source": [
    "Similarly, we can find the average highway MPG across all the cars in our CSV file."
   ]
  },
  {
   "cell_type": "code",
   "execution_count": null,
   "metadata": {},
   "outputs": [],
   "source": [
    "sum(float(d['hwy']) for d in mpg) / len(mpg)"
   ]
  },
  {
   "cell_type": "markdown",
   "metadata": {},
   "source": [
    " it makes sense that the average highway fuel economy is higher than in the city."
   ]
  },
  {
   "cell_type": "markdown",
   "metadata": {},
   "source": [
    "Say we want to know what the average city MPG is grouped by the number of cylinders a car has."
   ]
  },
  {
   "cell_type": "code",
   "execution_count": null,
   "metadata": {},
   "outputs": [],
   "source": [
    "cylinders = set(d['cyl'] for d in mpg)\n",
    "cylinders"
   ]
  },
  {
   "cell_type": "markdown",
   "metadata": {},
   "source": [
    "We see that we have cars in out dataset with 4, 5, 6, and 8 cylinders."
   ]
  },
  {
   "cell_type": "markdown",
   "metadata": {},
   "source": [
    "First, we'll create an empty list where we'll store our calculations. Next, let's iterate over all the cylinder levels. And then we'll iterate over all the dictionaries."
   ]
  },
  {
   "cell_type": "code",
   "execution_count": null,
   "metadata": {},
   "outputs": [],
   "source": [
    "CtyMpgByCl = []\n",
    "\n",
    "for c in cylinders:\n",
    "    \"\"\"\n",
    "    If the cylinder level for the dictionary we're on matches the\n",
    "     cylinder level we're calculating the average for,we add the \n",
    "     mpg to our summpg variable and increment the count.\n",
    "\n",
    "    \"\"\"\n",
    "    summpg = 0\n",
    "    cyltypecount = 0\n",
    "    for d in mpg:\n",
    "        if d['cyl'] == c:\n",
    "            summpg += float(d['cty'])\n",
    "            cyltypecount += 1\n",
    "    #After going through all the dictionaries, \n",
    "    #we perform the average MPG calculation and append it to our list.\n",
    "    CtyMpgByCl.append((c, summpg / cyltypecount))\n",
    "\n",
    "\n",
    "#the list is sorted from lowest number of cylinders to highest\n",
    "CtyMpgByCl.sort(key= lambda x : x[0] )\n",
    "CtyMpgByCl"
   ]
  },
  {
   "cell_type": "markdown",
   "metadata": {},
   "source": [
    "we can see that the city fuel economy appears to be decreasing as the number of cylinders increases."
   ]
  },
  {
   "cell_type": "markdown",
   "metadata": {},
   "source": [
    "Suppose we're interested in finding the average highway MPG for the different vehicle classes."
   ]
  },
  {
   "cell_type": "code",
   "execution_count": null,
   "metadata": {},
   "outputs": [],
   "source": [
    "vehicleclasses = set(d['class'] for d in mpg)\n",
    "vehicleclasses"
   ]
  },
  {
   "cell_type": "code",
   "execution_count": null,
   "metadata": {},
   "outputs": [],
   "source": [
    "HwyMpgByClass = []\n",
    "\n",
    "for v in vehicleclasses:\n",
    "    \"\"\"\n",
    "    If the vehicle class for the dictionary matches the vehicle\n",
    "    class we're computing the average highway MPG for,we add the\n",
    "    value to our total, and increment the count.\n",
    "    \"\"\"\n",
    "    summpg = 0\n",
    "    vcclass = 0\n",
    "    for d in mpg:\n",
    "        if d['class'] == v:\n",
    "            summpg += float(d['hwy'])\n",
    "            vcclass += 1\n",
    "    # the average calculation is performed and appended it our list.\n",
    "    HwyMpgByClass.append((v, summpg / vcclass))\n",
    "\n",
    "#sort our list from lowest MPG to highest.\n",
    "HwyMpgByClass.sort(key=lambda x:x[1])\n",
    "HwyMpgByClass\n"
   ]
  },
  {
   "cell_type": "markdown",
   "metadata": {},
   "source": [
    "Looks like the pickup had the worst fuel economy and the compact had the best."
   ]
  },
  {
   "cell_type": "markdown",
   "metadata": {},
   "source": [
    "# Python Dates and Times"
   ]
  },
  {
   "cell_type": "code",
   "execution_count": null,
   "metadata": {},
   "outputs": [],
   "source": []
  }
 ],
 "metadata": {
  "interpreter": {
   "hash": "916dbcbb3f70747c44a77c7bcd40155683ae19c65e1c03b4aa3499c5328201f1"
  },
  "kernelspec": {
   "display_name": "Python 3.8.10 64-bit",
   "language": "python",
   "name": "python3"
  },
  "language_info": {
   "codemirror_mode": {
    "name": "ipython",
    "version": 3
   },
   "file_extension": ".py",
   "mimetype": "text/x-python",
   "name": "python",
   "nbconvert_exporter": "python",
   "pygments_lexer": "ipython3",
   "version": "3.8.10"
  },
  "orig_nbformat": 4
 },
 "nbformat": 4,
 "nbformat_minor": 2
}
